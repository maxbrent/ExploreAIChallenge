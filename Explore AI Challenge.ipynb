{
 "cells": [
  {
   "cell_type": "markdown",
   "metadata": {},
   "source": [
    "Notebook done by:\n",
    "- Name: Yashveer Singh\n",
    "- email: yashveerm8@yahoo.com\n",
    "- contact: 072 217 9781\n",
    "- role: Senior Data Scientist"
   ]
  },
  {
   "cell_type": "markdown",
   "metadata": {},
   "source": [
    "# Data Science End-to-End Notebook"
   ]
  },
  {
   "cell_type": "markdown",
   "metadata": {},
   "source": [
    "## Outline\n",
    "Click on the link to be taken to the relevant section\n",
    "\n",
    "- [1. Exploratory Data Analysis](#1)\n",
    "    - [1.1. Measuring Data Skewness](#1.1)\n",
    "    - [1.2. Normalizing & Standardizing Data](#1.2)\n",
    "    - [1.3. Imputing Missing Values](#1.3)\n",
    "    - [1.4. Feature Generation](#1.4)\n",
    "- [2. Modelling from Explored Data](#2)\n",
    "    - [2.1. Build the Model](#2.1)\n",
    "    - [2.2. Ensemble Modelling](#2.2)\n",
    "    - [2.3. Hyperparameter Tuning](#2.3)\n",
    "    - [2.4. Feature Importance using SHAP](#2.4)\n",
    "    - [2.5. Pipelining](#2.5)\n",
    "- [3. Evaluating Models with Different Metrics](#3)\n",
    "- [4. Scaling up your Model to Production](#4)\n",
    "- [5. Advanced Methods in Statistics](#5)"
   ]
  },
  {
   "cell_type": "markdown",
   "metadata": {},
   "source": [
    "## Overview of this Notebook"
   ]
  },
  {
   "cell_type": "markdown",
   "metadata": {},
   "source": [
    "- For the Explore AI challenge I have decided to create a Notebook that covers various Data Science techniques used in practice. You will not find a notebook that covers all of these techniques, not even in **Kaggle Kernels!**\n",
    "- In this notebook I intend to give a complete overview of Data Science Methodologies that I have acquired through my many years of experience being a Data Scientist.\n",
    "- I will be using multiple datasets in this notebook to explain various concepts, since one dataset may not be enough to cover all the different concepts that I intend to cover.\n",
    "\n",
    "$$\\textbf{\n",
    "NB: There is a lot of content that I will cover in this notebook. Due to the short space of time, not all concepts may go into \n",
    "detail,}$$\n",
    "$$\\textbf{however I will provide addtional links for further explanation.}$$"
   ]
  },
  {
   "cell_type": "markdown",
   "metadata": {},
   "source": [
    "<a name='1'></a>\n",
    "## 1. Exploratory Data Analysis\n",
    "\n",
    "- The purpose of Exploratory Data Analysis is to gain insight into our dataset\n",
    "- In Exploratory Data Analysis we:\n",
    "    1. Examine the Distribution of our Data.\n",
    "    2. Try to find new insights to our Data that will lead to better feature generation.\n",
    "    3. This new feature generation will lead us to build a model with a higher performance score.\n",
    "    4. Remember that Data Science is not about creating fancy plots of Data and fitting data to a model, but rather to gain insight from data that will lead to new features and increase overall model performance. "
   ]
  },
  {
   "cell_type": "markdown",
   "metadata": {},
   "source": [
    "<a name='1.1'></a>\n",
    "### 1.1 Measuring Data Skewness\n",
    "- This is the first method in the data processing step\n",
    "- Skewness of data refers to data that has a different mean, mode and median. When all of these values differ we say that our data is skew.\n",
    "- The reasons for moving skewness in data is so that when we feed our data into our model, this will prevent our model from being biased to specific features in our data. By removing this skewness we are ensuring that the presence of outliers in the data are tremendously reduced.\n",
    "- Further reading material on data skewness can be found [Top 3 Methods for Handling Skew Data](https://towardsdatascience.com/top-3-methods-for-handling-skewed-data-1334e0debf45)\n",
    "- For this example, we will use a medical dataset with medical attributes"
   ]
  },
  {
   "cell_type": "markdown",
   "metadata": {},
   "source": [
    "#### Load Data\n",
    "\n",
    "First load the dataset which will be used for training and testing the model built in the modelling section."
   ]
  },
  {
   "cell_type": "code",
   "execution_count": null,
   "metadata": {},
   "outputs": [],
   "source": [
    "!git clone https://github.com/maxbrent/ExploreAIChallenge.git"
   ]
  },
  {
   "cell_type": "code",
   "execution_count": null,
   "metadata": {},
   "outputs": [],
   "source": [
    "!pip install shap\n",
    "!pip install lifelines"
   ]
  },
  {
   "cell_type": "code",
   "execution_count": null,
   "metadata": {},
   "outputs": [],
   "source": [
    "import os\n",
    "import sys\n",
    "import numpy as np\n",
    "import pandas as pd\n",
    "import matplotlib.pyplot as plt\n",
    "from IPython.display import Image"
   ]
  },
  {
   "cell_type": "code",
   "execution_count": null,
   "metadata": {},
   "outputs": [],
   "source": []
  },
  {
   "cell_type": "code",
   "execution_count": null,
   "metadata": {},
   "outputs": [],
   "source": []
  },
  {
   "cell_type": "code",
   "execution_count": null,
   "metadata": {},
   "outputs": [],
   "source": []
  },
  {
   "cell_type": "code",
   "execution_count": null,
   "metadata": {},
   "outputs": [],
   "source": []
  },
  {
   "cell_type": "code",
   "execution_count": null,
   "metadata": {},
   "outputs": [],
   "source": []
  },
  {
   "cell_type": "code",
   "execution_count": null,
   "metadata": {},
   "outputs": [],
   "source": []
  },
  {
   "cell_type": "code",
   "execution_count": null,
   "metadata": {},
   "outputs": [],
   "source": []
  },
  {
   "cell_type": "code",
   "execution_count": null,
   "metadata": {},
   "outputs": [],
   "source": []
  },
  {
   "cell_type": "code",
   "execution_count": null,
   "metadata": {},
   "outputs": [],
   "source": []
  },
  {
   "cell_type": "code",
   "execution_count": null,
   "metadata": {},
   "outputs": [],
   "source": []
  },
  {
   "cell_type": "code",
   "execution_count": null,
   "metadata": {},
   "outputs": [],
   "source": []
  },
  {
   "cell_type": "code",
   "execution_count": null,
   "metadata": {},
   "outputs": [],
   "source": []
  }
 ],
 "metadata": {
  "kernelspec": {
   "display_name": "Python 3",
   "language": "python",
   "name": "python3"
  },
  "language_info": {
   "codemirror_mode": {
    "name": "ipython",
    "version": 3
   },
   "file_extension": ".py",
   "mimetype": "text/x-python",
   "name": "python",
   "nbconvert_exporter": "python",
   "pygments_lexer": "ipython3",
   "version": "3.7.3"
  }
 },
 "nbformat": 4,
 "nbformat_minor": 2
}
